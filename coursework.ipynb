{
  "cells": [
    {
      "cell_type": "code",
      "execution_count": null,
      "metadata": {
        "colab": {
          "base_uri": "https://localhost:8080/"
        },
        "id": "AoLcWx33fL4Z",
        "outputId": "1e4bd13d-0b6c-414d-c797-fe1d0a0d9f23"
      },
      "outputs": [
        {
          "name": "stdout",
          "output_type": "stream",
          "text": [
            "Collecting g4f\n",
            "  Downloading g4f-0.3.1.0-py3-none-any.whl (600 kB)\n",
            "\u001b[2K     \u001b[90m━━━━━━━━━━━━━━━━━━━━━━━━━━━━━━━━━━━━━━━━\u001b[0m \u001b[32m600.1/600.1 kB\u001b[0m \u001b[31m5.9 MB/s\u001b[0m eta \u001b[36m0:00:00\u001b[0m\n",
            "\u001b[?25hRequirement already satisfied: requests in /usr/local/lib/python3.10/dist-packages (from g4f) (2.31.0)\n",
            "Requirement already satisfied: aiohttp in /usr/local/lib/python3.10/dist-packages (from g4f) (3.9.5)\n",
            "Collecting brotli (from g4f)\n",
            "  Downloading Brotli-1.1.0-cp310-cp310-manylinux_2_5_x86_64.manylinux1_x86_64.manylinux_2_12_x86_64.manylinux2010_x86_64.whl (3.0 MB)\n",
            "\u001b[2K     \u001b[90m━━━━━━━━━━━━━━━━━━━━━━━━━━━━━━━━━━━━━━━━\u001b[0m \u001b[32m3.0/3.0 MB\u001b[0m \u001b[31m36.0 MB/s\u001b[0m eta \u001b[36m0:00:00\u001b[0m\n",
            "\u001b[?25hCollecting pycryptodome (from g4f)\n",
            "  Downloading pycryptodome-3.20.0-cp35-abi3-manylinux_2_17_x86_64.manylinux2014_x86_64.whl (2.1 MB)\n",
            "\u001b[2K     \u001b[90m━━━━━━━━━━━━━━━━━━━━━━━━━━━━━━━━━━━━━━━━\u001b[0m \u001b[32m2.1/2.1 MB\u001b[0m \u001b[31m33.9 MB/s\u001b[0m eta \u001b[36m0:00:00\u001b[0m\n",
            "\u001b[?25hRequirement already satisfied: aiosignal>=1.1.2 in /usr/local/lib/python3.10/dist-packages (from aiohttp->g4f) (1.3.1)\n",
            "Requirement already satisfied: attrs>=17.3.0 in /usr/local/lib/python3.10/dist-packages (from aiohttp->g4f) (23.2.0)\n",
            "Requirement already satisfied: frozenlist>=1.1.1 in /usr/local/lib/python3.10/dist-packages (from aiohttp->g4f) (1.4.1)\n",
            "Requirement already satisfied: multidict<7.0,>=4.5 in /usr/local/lib/python3.10/dist-packages (from aiohttp->g4f) (6.0.5)\n",
            "Requirement already satisfied: yarl<2.0,>=1.0 in /usr/local/lib/python3.10/dist-packages (from aiohttp->g4f) (1.9.4)\n",
            "Requirement already satisfied: async-timeout<5.0,>=4.0 in /usr/local/lib/python3.10/dist-packages (from aiohttp->g4f) (4.0.3)\n",
            "Requirement already satisfied: charset-normalizer<4,>=2 in /usr/local/lib/python3.10/dist-packages (from requests->g4f) (3.3.2)\n",
            "Requirement already satisfied: idna<4,>=2.5 in /usr/local/lib/python3.10/dist-packages (from requests->g4f) (3.7)\n",
            "Requirement already satisfied: urllib3<3,>=1.21.1 in /usr/local/lib/python3.10/dist-packages (from requests->g4f) (2.0.7)\n",
            "Requirement already satisfied: certifi>=2017.4.17 in /usr/local/lib/python3.10/dist-packages (from requests->g4f) (2024.2.2)\n",
            "Installing collected packages: brotli, pycryptodome, g4f\n",
            "Successfully installed brotli-1.1.0 g4f-0.3.1.0 pycryptodome-3.20.0\n"
          ]
        }
      ],
      "source": [
        "# 21:30 07.05 4 hour work. Пора с этим апи писать работающую тему, показывать Афонину, чтобы он дальше направлял.\n",
        "!pip install g4f"
      ]
    },
    {
      "cell_type": "code",
      "execution_count": null,
      "metadata": {
        "id": "A4Jp5kWqfGbb"
      },
      "outputs": [],
      "source": [
        "# 20:00. 5,5 hour work 06.05. Что я планирую сделать?\n",
        "# 1). В json формат засунуть ответы gpt , пройтись по 5-10 сайтам, возможно со сменой промптов\n",
        "# проверить что всё работает или найти случаи, когда может не работать и разобраться как это отлавливать.\n",
        "\n",
        "# 2). дальше скинуть ему скрины(не стесняйся писать!!! я же по факту пишу, а не флужу) и сказать, что вот обработал 5-10 сайтов, вот такие результаты , вроде отличные.\n",
        "# еще могу сказать ему, что если надо или интересно ему, то могу еще прикрутить тг бота, который по ссылке и промпту вернет всё пользователю\n",
        "# но приходится долго ждать, поскольку мы дергаем апи и зафайнтюнить тут очев не выйдет\n",
        "# 3). следующий этап тогда скачать ллм уже локально (лучше на мак, он точно не сломается) , проверить как они будут работать\n",
        "# если что-то нормальное, то отлично идём файнтюнить (hf Trainer or AutoTrain) читаю доку, там должно быть очень просто по словам Влада и делаю\n",
        "# 4). в конце концов обсудить с ним(именно с ним, а не с друзьями-кентами, у которых могут быть другие требования)\n",
        "# что мне нужно писать в самой курсовой, есть ли какой-то жеский формат или я делаю презентацию просто в свободной форме"
      ]
    },
    {
      "cell_type": "code",
      "execution_count": null,
      "metadata": {
        "id": "cAEpcGI4fGbe"
      },
      "outputs": [],
      "source": [
        "test_conferences = [\n",
        "    \"https://www.inf.fu-berlin.de/inst/ag-ti/socg22/socg.html\",\n",
        "    \"https://icerm.brown.edu/topical_workshops/tw-24-ips/\",\n",
        "    \"https://www.siam.org/conferences/cm/conference/la24\",\n",
        "    \"https://www.birs.ca/events/2024/5-day-workshops/24w5313\",\n",
        "    \"https://icerm.brown.edu/topical_workshops/tw-24-saso/\",\n",
        "    \"https://indico.ictp.it/event/10516\",\n",
        "    \"https://icofca.com/\",\n",
        "    \"https://moad2024.sciencesconf.org/\", # нет спикеров\n",
        "    \"http://caim.romai.ro/Caim24/caim_24.htm\", # нет спикеров\n",
        "    \"https://ima.org.uk/23503/4th-ima-conference-on-inverse-problems-from-theory-to-application/\", # обрати внимание, чтобы извлекались только спикеры, а не организационный комитет\n",
        "    \"https://sites.google.com/view/atsf2024/home?authuser=0\", # нет спикеров, попробуй отдельно отсюда их извлечь https://sites.google.com/view/atsf2024/invited-speakers?authuser=0\n",
        "    \"https://boolean.w.uib.no/bfa-2024/\", # опять же проверь, что только нужные спикеры извлекаются, а не орг комитеты еще и тд\n",
        "    ]"
      ]
    },
    {
      "cell_type": "code",
      "execution_count": 3,
      "metadata": {
        "id": "fV7PDoeHfGbf"
      },
      "outputs": [],
      "source": [
        "from g4f.client import Client\n",
        "\n",
        "client = Client()\n",
        "def ask(promt):\n",
        "    response = client.chat.completions.create(\n",
        "        model=\"gpt-3.5-turbo\",\n",
        "        messages=[{\"role\": \"user\", \"content\": promt}],\n",
        "    )\n",
        "\n",
        "    return response.choices[0].message.content\n",
        "\n",
        "user_agent = \"Mozilla/5.0 (X11; Ubuntu; Linux x86_64; rv:125.0) Gecko/20100101 Firefox/125.0\"\n",
        "headers = {\"User-Agent\": user_agent}"
      ]
    },
    {
      "cell_type": "code",
      "execution_count": 136,
      "metadata": {
        "id": "h8cPFd6UfGbg"
      },
      "outputs": [],
      "source": [
        "import numpy as np\n",
        "from urllib.request import urlopen, Request\n",
        "from urllib.error import HTTPError\n",
        "from bs4 import BeautifulSoup\n",
        "from time import sleep\n",
        "from tqdm import tqdm\n",
        "\n",
        "def extract_information(conferences):\n",
        "    texts = {url: \"\" for url in conferences}\n",
        "    resps = {url: \"\" for url in conferences}\n",
        "    MAXLEN = 20000\n",
        "    sleep_time = [1, 2, 3, 4, 5]\n",
        "\n",
        "    for url in tqdm(conferences):\n",
        "        try:\n",
        "            request = Request(url, None, headers)\n",
        "            response = urlopen(request)\n",
        "        except HTTPError as err:\n",
        "            texts[url] = None\n",
        "            resps[url] = \"Sorry, I can't follow this link\"\n",
        "            continue\n",
        "\n",
        "        html = response.read()\n",
        "        soup = BeautifulSoup(html, features=\"html.parser\")\n",
        "\n",
        "        for script in soup([\"script\", \"style\"]):\n",
        "            script.extract()\n",
        "\n",
        "        text = soup.get_text()\n",
        "\n",
        "        lines = (line.strip() for line in text.splitlines())\n",
        "        chunks = (phrase.strip() for line in lines for phrase in line.split(\"  \"))\n",
        "        text = '\\n'.join(chunk for chunk in chunks if chunk)\n",
        "        text = text[:MAXLEN]\n",
        "\n",
        "        texts[url] = text\n",
        "        promt = 'find and return 4 lists (in structure: (number of list) : [only data in list, without any artifacts]): first includes only: \"topics\", second  includes only: \"speakers\", third includes only: \"time and date\",  fourth includes only:\"place\" ' + text\n",
        "        resps[url] = ask(promt)\n",
        "\n",
        "        sleep(np.random.choice(sleep_time)) # not banned\n",
        "\n",
        "    return texts, resps"
      ]
    },
    {
      "cell_type": "code",
      "execution_count": 137,
      "metadata": {
        "colab": {
          "base_uri": "https://localhost:8080/"
        },
        "id": "gGrwgVsyoivD",
        "outputId": "89449b3b-eae9-4db3-c0bd-4b97f531ab04"
      },
      "outputs": [
        {
          "name": "stderr",
          "output_type": "stream",
          "text": [
            "100%|██████████| 12/12 [02:57<00:00, 14.83s/it]\n"
          ]
        }
      ],
      "source": [
        "texts, resps = extract_information(test_conferences)"
      ]
    },
    {
      "cell_type": "code",
      "execution_count": 172,
      "metadata": {
        "id": "Izu9wYS45B1O"
      },
      "outputs": [],
      "source": [
        "import re\n",
        "\n",
        "def re_preprocessing(resp):\n",
        "    resp = resp\n",
        "    keys = [\"topics\", \"speakers\", \"time and date\", \"place\"]\n",
        "    indexes = dict()\n",
        "    for key in keys:\n",
        "        s = re.search(r'\\d.{0,}' + f'{key}', resp.lower())\n",
        "        indexes[key] = resp.lower().find(s[0]) if s else -1\n",
        "\n",
        "    res = dict()\n",
        "    for i, key in enumerate(keys):\n",
        "        if i + 1 == len(keys):\n",
        "            theme = resp[indexes[key]:]\n",
        "            theme = theme[:theme.find(\"\\n\\n\")]\n",
        "        else:\n",
        "            theme = resp[indexes[key]:indexes[keys[i + 1]]]\n",
        "        theme = [t.strip() for t in theme.split(\"\\n\")[1:] if t]\n",
        "        theme = [t[1:].strip() if t.startswith(\"-\") else t for t in theme]\n",
        "\n",
        "        res[key] = theme\n",
        "\n",
        "\n",
        "    return res"
      ]
    },
    {
      "cell_type": "code",
      "execution_count": 183,
      "metadata": {
        "colab": {
          "base_uri": "https://localhost:8080/"
        },
        "id": "apg4FXQ0dqGr",
        "outputId": "15349d9e-8c60-4218-f6a8-26a349c7c179"
      },
      "outputs": [
        {
          "name": "stdout",
          "output_type": "stream",
          "text": [
            "topics\n",
            "['Foundational theory of Boolean functions and discrete structures', 'Design, proposal, and analysis of cryptographically significant (vectorial) Boolean functions', 'The study of applications of (vectorial) Boolean functions to cryptography, codes, and other discrete structures', 'Theory and construction of quantum Boolean functions', 'Theory of finite fields and its applications in cryptography and coding theory']\n",
            "\n",
            "\n",
            "\n",
            "speakers\n",
            "['Markus Grassl, University Gdansk', 'Sylvain Guilley, TELECOM-ParisTech', 'Tor Helleseth, University of Bergen, Norway', 'Gregor Leander, Ruhr-Universität Bochum, Germany', 'Gábor Péter Nagy, Budapest University of Technology and Economics, Hungary', 'Claude Carlet, University of Paris VIII, France and University of Bergen, Norway', 'Sihem Mesnager, University of Paris VIII and Sorbonne University North, France', 'Stjepan Picek, Radboud University, the Netherlands']\n",
            "\n",
            "\n",
            "\n",
            "time and date\n",
            "['BFA 2024: September 09 – September 13, 2024']\n",
            "\n",
            "\n",
            "\n",
            "place\n",
            "['Inter-University Centre Dubrovnik, Croati']\n",
            "\n",
            "\n",
            "\n"
          ]
        }
      ],
      "source": [
        "for key, val in re_preprocessing(resps[test_conferences[11]]).items():\n",
        "    print(key)\n",
        "    print(val)\n",
        "    print(\"\\n\\n\")"
      ]
    },
    {
      "cell_type": "code",
      "execution_count": 178,
      "metadata": {
        "colab": {
          "base_uri": "https://localhost:8080/"
        },
        "id": "TABcEMl36_Ip",
        "outputId": "78ab4f8d-ad88-4126-9365-5b20d41da23f"
      },
      "outputs": [
        {
          "name": "stdout",
          "output_type": "stream",
          "text": [
            "1 : [Optimization (Combinatorial, Multi-criteria, Continuous, Dynamic, Stochastic ...), Game Theory, Artificial Intelligence, Statistics, Probability and Stochastic Processes, Control and Dynamical Systems, Graph Theory, Discrete Mathematics, Numbers Theory and Combinatorics, Numerical Analysis and Partial Differential Equations, Mathematical Modeling and Simulation, Applications to Engineering Sciences]\n",
            "2 : []\n",
            "3 : [20-22 Oct 2024]\n",
            "4 : [Tizi ouzou (Algeria)]\n"
          ]
        }
      ],
      "source": [
        "print(resps[test_conferences[7]])"
      ]
    },
    {
      "cell_type": "code",
      "execution_count": 179,
      "metadata": {
        "colab": {
          "base_uri": "https://localhost:8080/"
        },
        "id": "rQPZgjng6_K9",
        "outputId": "630e728c-f151-4b61-9606-0cfa5e5d9825"
      },
      "outputs": [
        {
          "name": "stdout",
          "output_type": "stream",
          "text": [
            "1 : [Partial Differential Equations, Ordinary Differential Equations, Dynamical Systems, Mathematical Modeling in Engineering and Life Sciences, Real, Complex, Functional and Numerical Analysis, Probability Theory, Mathematical Statistics, Operations Research, Algebra, Logic, Geometry, Computer Science, Education]\n",
            "2 : []\n",
            "3 : [September 19-22, 2024]\n",
            "4 : [University of Oradea, Universitatii 1, Romania]\n"
          ]
        }
      ],
      "source": [
        "print(resps[test_conferences[8]])"
      ]
    },
    {
      "cell_type": "code",
      "execution_count": 180,
      "metadata": {
        "colab": {
          "base_uri": "https://localhost:8080/"
        },
        "id": "6t4hdqA96_No",
        "outputId": "d8f87b10-f152-48a2-f439-5d9b837f5bde"
      },
      "outputs": [
        {
          "name": "stdout",
          "output_type": "stream",
          "text": [
            "1: [\"Inverse problems in mathematical and computational imaging.\", \"Inverse problems in science, medicine, engineering, and other fields.\", \"Model‐based and data‐driven methods for solving inverse\", \"Optimisation, statistical, and machine learning methods for solving inverse problems.\", \"Mathematical theory for inverse problems.\", \"Deterministic and stochastic computational methods and algorithms.\"]\n",
            "\n",
            "2: [\"Coralia Cartis (Oxford)\", \"Marcelo Pereyra (Heriot Watt)\", \"Olga Hernandez ( Eindhoven University of Technology)\", \"Rob Scheichl (Heidelberg)\"]\n",
            "\n",
            "3: [\"Wednesday September 11, 2024 9:00 am\", \"Friday September 13, 2024 5:00 pm\"]\n",
            "\n",
            "4: [\"3 West North, University of Bath, Claverton Down, Bath , BA2 7AY\"]\n"
          ]
        }
      ],
      "source": [
        "print(resps[test_conferences[9]])"
      ]
    },
    {
      "cell_type": "code",
      "execution_count": 181,
      "metadata": {
        "colab": {
          "base_uri": "https://localhost:8080/"
        },
        "id": "iTVgBtaI8Nfx",
        "outputId": "52e5dcd1-ca24-4cc5-985a-b5c553fca770"
      },
      "outputs": [
        {
          "name": "stdout",
          "output_type": "stream",
          "text": [
            "1: [\"Approximation Theory and Special Functions\"]\n",
            "2: [\"Prof. George Anastassiou\"]\n",
            "3: [\"September 4-7, 2024\"]\n",
            "4: [\"TOBB Economics and Technology University, Ankara - Türkiye\"]\n"
          ]
        }
      ],
      "source": [
        "print(resps[test_conferences[10]])"
      ]
    },
    {
      "cell_type": "code",
      "execution_count": null,
      "metadata": {
        "id": "LRxpJhkh8Py3"
      },
      "outputs": [],
      "source": []
    },
    {
      "cell_type": "code",
      "execution_count": null,
      "metadata": {
        "id": "_KCHLXeN8P1q"
      },
      "outputs": [],
      "source": []
    },
    {
      "cell_type": "code",
      "execution_count": 120,
      "metadata": {
        "colab": {
          "base_uri": "https://localhost:8080/"
        },
        "id": "eNBXsiMKd4B0",
        "outputId": "e6001d13-4596-4458-a331-d585131ff0dc"
      },
      "outputs": [
        {
          "name": "stdout",
          "output_type": "stream",
          "text": [
            "1. \"topics\" : [\"Approximation Theory\", \"Special Functions\", \"Summability Theory\", \"Applied Mathematics\", \"Special Functions\", \"Analysis and Functions Theory\"]\n",
            "2. \"speakers\" : [\"Prof. George Anastassiou\"]\n",
            "3. \"time and date\" : [\"September 4-7, 2024\"]\n",
            "4. \"place\" : [\"Ankara, Türkiye\", \"TOBB Economics and Technology University\"]\n"
          ]
        }
      ],
      "source": [
        "print(resps[test_conferences[10]])"
      ]
    },
    {
      "cell_type": "code",
      "execution_count": 125,
      "metadata": {
        "colab": {
          "base_uri": "https://localhost:8080/"
        },
        "id": "6TpSiKuad4E6",
        "outputId": "cb1c25c3-cb8b-4d9f-a5b0-11bf04021ba1"
      },
      "outputs": [
        {
          "data": {
            "text/plain": [
              "False"
            ]
          },
          "execution_count": 125,
          "metadata": {},
          "output_type": "execute_result"
        }
      ],
      "source": [
        "\"3\" in resps[test_conferences[11]]"
      ]
    },
    {
      "cell_type": "code",
      "execution_count": null,
      "metadata": {
        "id": "lU2oBTea3V36"
      },
      "outputs": [],
      "source": []
    },
    {
      "cell_type": "code",
      "execution_count": null,
      "metadata": {
        "id": "3D1F73eb3V6X"
      },
      "outputs": [],
      "source": []
    },
    {
      "cell_type": "code",
      "execution_count": null,
      "metadata": {
        "id": "EgIS1Vqk3V9O"
      },
      "outputs": [],
      "source": []
    },
    {
      "cell_type": "code",
      "execution_count": null,
      "metadata": {
        "id": "BEM_VbAL-nTo"
      },
      "outputs": [],
      "source": [
        "\"\"\"\n",
        "Результаты тестирования и над чем предстоит работать:\n",
        "\n",
        "регулярками буду обрабатывать\n",
        "\n",
        "необработанный случай\n",
        "1: ['Interacting Particle Systems: Analysis, Control, Learning and Computation'],\n",
        "2: ['Jose Carrillo','Katy Craig','Massimo Fornasier','Fei Lu','Mauro Maggioni','Kavita Ramanan'],\n",
        "3: ['Monday, May 6, 2024', 'Tuesday, May 7, 2024'],\n",
        "4: ['University of Oxford','UC Santa Barbara','Technical University of Munich','Johns Hopkins University','Brown University']\n",
        "\n",
        "не являются спикерами\n",
        "2. **Speakers**:\n",
        "    - Organizing Committee Co-chairs:\n",
        "        - Laura Grigori, EPFL and PSI, Switzerland\n",
        "        - Daniel Kressner, EPFL, Switzerland\n",
        "\n",
        "интересный ответ\n",
        "\n",
        "2. **Speakers**:\n",
        "- No speakers listed in the provided text.\n",
        "\n",
        "нужно отпарсить даты и выбрать самую старшую позднюю, очев она и будет верной как дата конфференции\n",
        "3: [\"Submission deadline: May 15, 2024\", \"Acceptance notification: July 1, 2024\", \"Camera-ready submission: August 1, 2024\", \"Early registration deadline for physical participation: July 15, 2024\", \"Registration deadline for physical participation: August 17, 2024\", \"Video submission of presentations: August 20, 2024\", \"BFA 2024: September 09 – September 13, 2024\"],\n",
        "\"\"\""
      ]
    },
    {
      "cell_type": "code",
      "execution_count": null,
      "metadata": {
        "id": "Bf4zF3gV2TYv"
      },
      "outputs": [],
      "source": []
    },
    {
      "cell_type": "code",
      "execution_count": 64,
      "metadata": {
        "colab": {
          "base_uri": "https://localhost:8080/"
        },
        "id": "D7OMqhc-pPZB",
        "outputId": "bd2c2694-342d-4657-999d-2daaba3a7c4c"
      },
      "outputs": [
        {
          "name": "stdout",
          "output_type": "stream",
          "text": [
            "https://www.inf.fu-berlin.de/inst/ag-ti/socg22/socg.html\n",
            "\n",
            "\n",
            "Here are the four lists extracted from the provided text:\n",
            "\n",
            "1. **Topics**:\n",
            "   - Design, analysis, and implementation of geometric algorithms and data structures;\n",
            "   - Computational complexity of geometric problems;\n",
            "   - Implementation and experimental evaluation of geometric algorithms and heuristics, including mathematical, numerical, and algebraic aspects;\n",
            "   - Discrete and combinatorial geometry;\n",
            "   - Computational topology, topological data analysis, and topological combinatorics;\n",
            "   - Applications of computational geometry in any field.\n",
            "\n",
            "2. **Speakers**:\n",
            "   - Henry Adams (Colorado State University, USA)\n",
            "   - SangWon Bae (Kyonggi University, South Korea)\n",
            "   - Édouard Bonnet (ENS Lyon, France)\n",
            "   - Timothy Chan (University of Illinois at Urbana-Champaign, USA)\n",
            "   - Hsien-Chih Chang (Dartmouth College, USA)\n",
            "   - Hu Ding (University of Science and Technology, China)\n",
            "   - Vida Dujmović (University of Ottawa, Canada)\n",
            "   - Herbert Edelsbrunner (IST, Austria)\n",
            "   - Radoslav Fulek (UC San Diego, USA)\n",
            "   - Xavier Goaoc; co-chair (Université de Lorraine, France)\n",
            "   - Stefan Huber (Salzburg University of Applied Sciences, Austria)\n",
            "   - Michael Kerber; co-chair (TU Graz, Austria)\n",
            "   - Marc van Kreveld (Utrecht University, The Netherlands)\n",
            "   - Claudia Landi (Università di Modena, Italy)\n",
            "   - Sepideh Mahabadi (Toyota Technological Institute at Chicago, USA)\n",
            "   - Yakov Nekrich (Michigan Tech, USA)\n",
            "   - Aleksandar Nikolov (University of Toronto, Canada)\n",
            "   - Gabriel Nivasch (Ariel University, Israel)\n",
            "   - Natan Rubin (Ben-Gurion University, Israel)\n",
            "   - Christiane Schmidt (Linköping University, Sweden)\n",
            "   - Haitao Wang (Utah State University, USA)\n",
            "   - Emo Welzl (ETH Zürich, Switzerland)\n",
            "   - Carola Wenk (Tulane University, USA)\n",
            "   - Andreas Wiese (Universidad de Chile)\n",
            "   - Chee Yap (New York University, USA)\n",
            "\n",
            "3. **Time and Date**:\n",
            "   - 07–10 June 2022 (Tuesday–Friday)\n",
            "\n",
            "4. **Place**:\n",
            "   - Berlin, Germany\n",
            "\n",
            "\n",
            "\n",
            "https://icerm.brown.edu/topical_workshops/tw-24-ips/\n",
            "\n",
            "\n",
            "Here are the four lists you requested:\n",
            "\n",
            "List 1 - Topics:\n",
            "- Interacting Particle Systems: Analysis, Control, Learning and Computation\n",
            "\n",
            "List 2 - Speakers:\n",
            "- Pedro Aceves Sanchez\n",
            "- Shuchin Aeron\n",
            "- Manuel Arnese\n",
            "- Yonatan Ashenafi\n",
            "- Ayoub Belhadji\n",
            "- Sara Bicego\n",
            "- David Bortz\n",
            "- Andrey Bryutkin\n",
            "- Fei Cao\n",
            "- Rossana Capuani\n",
            "- Jose Carrillo\n",
            "- Lin Chen\n",
            "- Xiaohui Chen\n",
            "- Chi-An Chen\n",
            "- Weiqi Chu\n",
            "- Lauren Conger\n",
            "- Katy Craig\n",
            "- Michel Davydov\n",
            "- Uresha Dias\n",
            "- Tiago dos Santos Domingues\n",
            "- Irene Erazo\n",
            "- Antonio Esposito\n",
            "- Christian Fiedler\n",
            "- Ankan Ganguly\n",
            "- Yuan Gao\n",
            "- Nicolas Garcia Trillos\n",
            "- Fuqun Han\n",
            "- Baoli Hao\n",
            "- Franca Hoffmann\n",
            "- Alexandra Holzinger\n",
            "- Michael Hott\n",
            "- Kevin Hu\n",
            "- Juntao Huang\n",
            "- Hui Huang\n",
            "- Vasily Ilin\n",
            "- Pierre-Emmanuel Jabin\n",
            "- Gustaaf Jacobs\n",
            "- Matt Jacobs\n",
            "- Dante Kalise\n",
            "- Yannis Kevrekidis\n",
            "- Aditya Khanna\n",
            "- Anna Korba\n",
            "- Daniel Lacker\n",
            "- Quanjun Lang\n",
            "- Xingjie Li\n",
            "- Sixu Li\n",
            "- Wuchen Li\n",
            "- Jian-Guo Liu\n",
            "- Shu Liu\n",
            "- Shanqing LIU\n",
            "- Jianfeng Lu\n",
            "- Fei Lu\n",
            "- Xiaohang Ma\n",
            "- Mauro Maggioni\n",
            "- Brendan Mallery\n",
            "- Aimee Maurais\n",
            "- Ian Oliver McPherson\n",
            "- Daniel Messenger\n",
            "- Joseph Miller\n",
            "- Claire Murphy\n",
            "- Djordje Nikolic\n",
            "- Pierre Nyquist\n",
            "- Mariana Olvera-Cravioto\n",
            "- Melkior Ornik\n",
            "- Lorenzo Pareschi\n",
            "- Jack Pfaffinger\n",
            "- Kavita Ramanan\n",
            "- Nipuni Senani De Silva Rammini\n",
            "- Ali Akbar Rezaei Lori\n",
            "- Nazia Riasat\n",
            "- Konstantin Riedl\n",
            "- Philippe Rigollet\n",
            "- Adil Salim\n",
            "- Widodo Samyono\n",
            "- Jakub Skrzeczkowski\n",
            "- Chandler Smith\n",
            "- Konstantinos Spiliopoulos\n",
            "- Reed Spitzer\n",
            "- Zheng Sun\n",
            "- Sui Tang\n",
            "- Carlos Taveras\n",
            "- Ilya Timofeyev\n",
            "- Oliver Tse\n",
            "- Olga Turanova\n",
            "- Cesar Uribe\n",
            "- Eric Vanden-Eijnden\n",
            "- Kyra Veprek\n",
            "- Oleksandr Vlasiuk\n",
            "- Zhenfu Wang\n",
            "- Li Wang\n",
            "- Xiong Wang\n",
            "- Yiwei Wang\n",
            "- Jethro Warnett\n",
            "- Tomer Weiss\n",
            "- Andre Wibisono\n",
            "- Marie-Therese Wolfram\n",
            "- Yantao Wu\n",
            "- Ruoyu Wu\n",
            "- Xingchi Yan\n",
            "- Yunan Yang\n",
            "- Yukun Yue\n",
            "- Edith Zhang\n",
            "- Liming Zhao\n",
            "- Wenjun Zhao\n",
            "- Ming Zhong\n",
            "- Mo Zhou\n",
            "- Bohan Zhou\n",
            "- Yuhua Zhu\n",
            "\n",
            "List 3 - Time and Data:\n",
            "- May 6 - 10, 2024\n",
            "\n",
            "List 4 - Place: \n",
            "- ICERM (location)\n",
            "\n",
            "\n",
            "\n",
            "https://www.siam.org/conferences/cm/conference/la24\n",
            "\n",
            "\n",
            "1: [\"SIAM Conference on Applied Linear Algebra (LA24)\"]\n",
            "2: [\"Laura GrigoriEPFL and PSI, Switzerland\", \"Daniel Kressner EPFL, Switzerland\", \"Erin Carson, Charles University, Czech Republic\", \"Edmond Chow, Georgia Institute of Technology, U.S.\", \"Julianne Chung, Emory University, U.S.\", \"Andreas Frommer, Wuppertal University, Germany\", \"Chen Greif, The University of British Columbia, Canada\", \"Tamara Kolda, MathSci.ai, U.S.\", \"Lin Lin, University of California, Berkeley, U.S.\", \"Agnieszka Miedlar, Virginia Tech, U.S.\", \"Yuji Nakatsukasa, University of Oxford, United Kingdom\", \"Catherine Powell, University of Manchester, United Kingdom\", \"Rio Yokota, Tokyo Institute of Technology, Japan\", \"Fabienne Jézéquel, Sorbonne Université, France\", \"Pierre Jolivet, CNRS and Sorbonne Université, France\", \"Théo Mary, CNRS and Sorbonne Université, France\", \"Frédéric Nataf, CNRS and Sorbonne Université, France\", \"Emile Parolin, Inria and Sorbonne Université, France\"]\n",
            "3: [\"May 13 - 17, 2024\", \"Sorbonne Université | Paris, France\"]\n",
            "4: [\"3600 Market Street, 6th Floor, Philadelphia, PA 19104 USA\"]\n",
            "\n",
            "\n",
            "\n",
            "https://www.birs.ca/events/2024/5-day-workshops/24w5313\n",
            "\n",
            "\n",
            "Here are the four lists you requested:\n",
            "\n",
            "1: Topics\n",
            "- Homological Perspective on Splines and Finite Elements\n",
            "\n",
            "2: Speakers\n",
            "- Tanya Sorokina (Towson University)\n",
            "- Martina Lanini (University of Rome Tor Vergata)\n",
            "- Ulrich Reif (Technische Universtität Darmstadt)\n",
            "- Deepesh Toshniwal (Delft University of Technology)\n",
            "- Jenna Rajchgot (McMaster University)\n",
            "\n",
            "3: Time and Data\n",
            "- May 19 - 24, 2024\n",
            "\n",
            "4: Place\n",
            "- UBC Okanagan campus in Kelowna, B.C., Canada\n",
            "\n",
            "\n",
            "\n",
            "https://icerm.brown.edu/topical_workshops/tw-24-saso/\n",
            "\n",
            "\n",
            "1: [\"Spectral Analysis of Schrödinger Operators\"]\n",
            "2: [\"Jianfeng Lu\", \"Benoit Pausader\", \"Fabio Pusateri\", \"Wilhelm Schlag\", \"Israel Michael Sigal\", \"Ebru Toprak\"]\n",
            "3: [\"Aug 19 - 23, 2024\"]\n",
            "4: [\"Providence, Rhode Island\"]\n",
            "\n",
            "\n",
            "\n",
            "https://indico.ictp.it/event/10516\n",
            "\n",
            "\n",
            "Here are the four lists you requested:\n",
            "\n",
            "1: Topics\n",
            "- Monte Carlo Radiation Transport\n",
            "- Associated Data Needs for Medical Applications\n",
            "\n",
            "2: Speakers\n",
            "- H. Bouchard\n",
            "- I. Kawrakow\n",
            "- E. Mainegra-Hing\n",
            "- P. Oliver\n",
            "- D.W.O. Rogers\n",
            "- F. Tessier\n",
            "- R. Townson\n",
            "- B. Walters\n",
            "\n",
            "3: Time and Data\n",
            "- Start Date: 28 October 2024\n",
            "- End Date: 8 November 2024\n",
            "- Timezone: Central European Time\n",
            "\n",
            "4: Place\n",
            "- Venue: Kastler Lecture Hall (AGH)\n",
            "- Address: Riva Massimiliano e Carlotta, Grignano, I - 34151 Trieste (Italy)\n",
            "\n",
            "Please note that these lists have been extracted from the provided text and may not include all relevant information.\n",
            "\n",
            "\n",
            "\n",
            "https://icofca.com/\n",
            "\n",
            "\n",
            "Based on the provided text, here are the four lists you requested:\n",
            "\n",
            "1. List of topics:\n",
            "- Fractional Differential Equations\n",
            "- Fractional Partial Differential Equations\n",
            "- Theory of existence and uniqueness of solutions\n",
            "- Stability analysis\n",
            "- Boundary value problems\n",
            "- Inverse problems\n",
            "- Fractional Control Systems\n",
            "- Applications in Physics, Engineering, Biology, and more\n",
            "\n",
            "2. List of speakers:\n",
            "- Prof. Dumitru Baleanu\n",
            "\n",
            "3. List of time and data:\n",
            "- Event dates: December 26, 2024, to December 30, 2024\n",
            "\n",
            "4. List of places:\n",
            "- Event location: Sousse - Tunisia\n",
            "\n",
            "\n",
            "\n",
            "https://moad2024.sciencesconf.org/\n",
            "\n",
            "\n",
            "1: [\"Topics\": [\n",
            "    \"Optimization (Combinatorial, Multi-criteria, Continuous, Dynamic, Stochastic ...)\",\n",
            "    \"Game Theory\",\n",
            "    \"Artificial Intelligence\",\n",
            "    \"Statistics; Probability and Stochastic Processes\",\n",
            "    \"Control and Dynamical Systems\",\n",
            "    \"Graph Theory; Discrete Mathematics, Numbers Theory and Combinatorics\",\n",
            "    \"Numerical Analysis and Partial Differential Equations\",\n",
            "    \"Mathematical Modeling and Simulation\",\n",
            "    \"Applications to Engineering Sciences\"\n",
            "  ]]\n",
            "  \n",
            "2: [\"Speakers\": [\n",
            "    \"Plenary Speakers\",\n",
            "    \"Scientific Committee\",\n",
            "    \"Conference Organizers and Boards\",\n",
            "    \"Organizing and Program Committees Members\"\n",
            "  ]]\n",
            "  \n",
            "3: [\"Time and Date\": [\n",
            "    \"20-22 Oct 2024\"\n",
            "  ]]\n",
            "  \n",
            "4: [\"Place\": [\n",
            "    \"Tizi ouzou (Algeria)\"\n",
            "  ]]\n",
            "\n",
            "\n",
            "\n",
            "http://caim.romai.ro/Caim24/caim_24.htm\n",
            "\n",
            "\n",
            "Here are the requested lists:\n",
            "\n",
            "1. **Topics**:\n",
            "   - Partial Differential Equations\n",
            "   - Ordinary Differential Equations, Dynamical Systems\n",
            "   - Mathematical Modeling in Engineering and Life Sciences\n",
            "   - Real, Complex, Functional and Numerical Analysis\n",
            "   - Probability Theory, Mathematical Statistics, Operations Research\n",
            "   - Algebra, Logic, Geometry\n",
            "   - Computer Science\n",
            "   - Education\n",
            "\n",
            "2. **Speakers**: (No specific list provided in the text)\n",
            "\n",
            "3. **Time and Date**:\n",
            "   - Conference dates: September 19-22, 2024\n",
            "   - Deadline for submitting abstracts: August 15, 2024\n",
            "   - Notification of accepted abstracts: August 20, 2024\n",
            "   - Deadline for submitting final paper (didactic Section): August 20, 2024\n",
            "   - Deadline for reduced fee: September 1, 2024\n",
            "   - Registration deadline: September 1, 2024\n",
            "\n",
            "4. **Place**:\n",
            "   - The works of the conference will take place at University of Oradea, Universitatii 1, Romania\n",
            "\n",
            "\n",
            "\n",
            "https://ima.org.uk/23503/4th-ima-conference-on-inverse-problems-from-theory-to-application/\n",
            "\n",
            "\n",
            "Here are the requested lists extracted from the provided information:\n",
            "\n",
            "1. **Topics:**\n",
            "   - Inverse problems in mathematical and computational imaging.\n",
            "   - Inverse problems in science, medicine, engineering, and other fields.\n",
            "   - Model‐based and data‐driven methods for solving inverse.\n",
            "   - Optimisation, statistical, and machine learning methods for solving inverse problems.\n",
            "   - Mathematical theory for inverse problems.\n",
            "   - Deterministic and stochastic computational methods and algorithms.\n",
            "\n",
            "2. **Speakers:**\n",
            "   - Coralia Cartis (Oxford)\n",
            "   - Marcelo Pereyra (Heriot Watt)\n",
            "   - Olga Hernandez (Eindhoven University of Technology)\n",
            "   - Rob Scheichl (Heidelberg)\n",
            "\n",
            "3. **Time and Date:**\n",
            "   - Wednesday, September 11, 2024, 9:00 am\n",
            "   - Friday, September 13, 2024, 5:00 pm\n",
            "\n",
            "4. **Place:**\n",
            "   - 3 West North, University of Bath, Claverton Down, Bath , BA2 7AY\n",
            "\n",
            "\n",
            "\n",
            "https://sites.google.com/view/atsf2024/home?authuser=0\n",
            "\n",
            "\n",
            "1. **Topics**: \n",
            "- Approximation Theory: \n",
            "-- Classical approximation\n",
            "-- Statistical approximation\n",
            "-- Fuzzy approximation\n",
            "-- Approximation in the complex plane\n",
            "-- Best approximation\n",
            "-- Linear and nonlinear approximation\n",
            "-- Multivariate approximation\n",
            "-- Neural networks\n",
            "-- Numerical approximation\n",
            "-- Rational approximation\n",
            "-- Splines\n",
            "-- Interpolation\n",
            "\n",
            "- Summability Theory: \n",
            "-- Statistical convergence\n",
            "-- Regular summability methods\n",
            "-- Power series methods\n",
            "-- Sequence spaces\n",
            "-- Divergent series\n",
            "-- Tauberian theorems\n",
            "-- Summation processes\n",
            "-- Matrix and integral methods for summability\n",
            "\n",
            "- Applied Mathematics: \n",
            "-- ODEs\n",
            "-- PDEs\n",
            "-- Difference equations\n",
            "-- Mathematical modeling\n",
            "-- Dynamical systems\n",
            "-- Numerical analysis\n",
            "-- Oscillation\n",
            "-- Stability theory\n",
            "-- Control theory\n",
            "-- Financial mathematics\n",
            "-- Optimization\n",
            "-- Probability and statistics\n",
            "-- Stochastic process\n",
            "-- Graph theory\n",
            "\n",
            "- Special Functions: \n",
            "-- Orthogonal polynomials\n",
            "-- Hypergeometric series\n",
            "-- Generating functions\n",
            "-- General orthogonal systems\n",
            "-- Umbral calculus\n",
            "-- Recurrence relations\n",
            "-- Matrix-valued polynomials\n",
            "-- Fourier series\n",
            "-- Special orthogonal functions\n",
            "-- Special polynomials\n",
            "-- Special functions in mathematical physics\n",
            "\n",
            "- Analysis and Functions Theory: \n",
            "-- Harmonic analysis\n",
            "-- Functional analysis\n",
            "-- Geometric function theory\n",
            "-- Fuzzy analysis\n",
            "-- Operator theory\n",
            "-- Spectral theory\n",
            "-- Fixed point theory\n",
            "-- Fractional calculus\n",
            "-- q-analysis\n",
            "-- Number theory\n",
            "-- Combinatorics\n",
            "-- Cryptography and coding theory\n",
            "-- Inequalities\n",
            "-- Time scales\n",
            "\n",
            "2.  **Speakers**: Not included in the provided text.\n",
            "\n",
            "3. **Time and Date**: \n",
            "- September 4-7, 2024\n",
            "\n",
            "4. **Place**: \n",
            "- Ankara - Türkiye\n",
            "- TOBB Economics and Technology University\n",
            "\n",
            "\n",
            "\n",
            "https://boolean.w.uib.no/bfa-2024/\n",
            "\n",
            "\n",
            "Here are the four lists you requested:\n",
            "\n",
            "1. Topics:\n",
            "- Foundational theory of Boolean functions and discrete structures\n",
            "- Design, proposal, and analysis of cryptographically significant (vectorial) Boolean functions\n",
            "- The study of applications of (vectorial) Boolean functions to cryptography, codes, and other discrete structures\n",
            "- Theory and construction of quantum Boolean functions\n",
            "- Theory of finite fields and its applications in cryptography and coding theory\n",
            "\n",
            "2. Speakers:\n",
            "- Markus Grassl, University Gdansk\n",
            "- Sylvain Guilley, TELECOM-ParisTech\n",
            "- Tor Helleseth, University of Bergen, Norway\n",
            "- Gregor Leander, Ruhr-Universität Bochum, Germany\n",
            "- Gábor Péter Nagy, Budapest University of Technology and Economics, Hungary\n",
            "- Claude Carlet, University of Paris VIII, France, and University of Bergen, Norway\n",
            "- Sihem Mesnager, University of Paris VIII and Sorbonne University North, France\n",
            "- Stjepan Picek, Radboud University, the Netherlands\n",
            "\n",
            "3. Time and data:\n",
            "- Submission deadline: May 15, 2024\n",
            "- Acceptance notification: July 1, 2024\n",
            "- Camera-ready submission: August 1, 2024\n",
            "- Early registration deadline for physical participation: July 15, 2024\n",
            "- Registration deadline for physical participation: August 17, 2024\n",
            "- Video submission of presentations: August 20, 2024\n",
            "- BFA 2024 workshop dates: September 9-13, 2024\n",
            "\n",
            "4. Place:\n",
            "- Inter-University Centre Dubrovnik, Croatia\n",
            "\n",
            "\n",
            "\n"
          ]
        }
      ],
      "source": [
        "# в файлы лучше запиши, чтоб нормально видно было мб\n",
        "for url, resp in list(resps.items()):\n",
        "    print(url)\n",
        "    print(\"\\n\")\n",
        "    print(resp)\n",
        "    print(\"\\n\\n\")"
      ]
    },
    {
      "cell_type": "code",
      "execution_count": null,
      "metadata": {
        "colab": {
          "base_uri": "https://localhost:8080/"
        },
        "id": "BhkHTfbCvFOK",
        "outputId": "a5a5aa41-e136-416c-8801-ca1f9d4c9d0a"
      },
      "outputs": [
        {
          "name": "stdout",
          "output_type": "stream",
          "text": [
            "https://www.inf.fu-berlin.de/inst/ag-ti/socg22/socg.html 15000\n",
            "https://icerm.brown.edu/topical_workshops/tw-24-ips/ 15000\n",
            "https://www.siam.org/conferences/cm/conference/la24 11456\n",
            "https://www.birs.ca/events/2024/5-day-workshops/24w5313 3819\n",
            "https://icerm.brown.edu/topical_workshops/tw-24-saso/ 11602\n",
            "https://indico.ictp.it/event/10516 3546\n",
            "https://icofca.com/ 7187\n",
            "https://moad2024.sciencesconf.org/ 2484\n",
            "http://caim.romai.ro/Caim24/caim_24.htm 6235\n",
            "None: https://ima.org.uk/23503/4th-ima-conference-on-inverse-problems-from-theory-to-application/https://sites.google.com/view/atsf2024/home?authuser=0\n",
            "https://boolean.w.uib.no/bfa-2024/ 6572\n"
          ]
        }
      ],
      "source": [
        "for url, text in texts.items():\n",
        "    if text is not None:\n",
        "        print(url, len(text))\n",
        "    else:\n",
        "        print(f\"None: {url}\")"
      ]
    },
    {
      "cell_type": "code",
      "execution_count": 148,
      "metadata": {
        "id": "TuFpRDH1xV1M"
      },
      "outputs": [],
      "source": [
        "for key, text in texts.items():\n",
        "    triggers = [\"conference\", \"topic\", \"speaker\", \"date\", \"universit\", \"committee\"]\n",
        "    if sum(0 if trigger not in text.lower() else 1 for trigger in triggers) == 0:\n",
        "        print(key)"
      ]
    },
    {
      "cell_type": "code",
      "execution_count": null,
      "metadata": {
        "id": "NGGKgK_UyyqY"
      },
      "outputs": [],
      "source": []
    }
  ],
  "metadata": {
    "colab": {
      "provenance": []
    },
    "kernelspec": {
      "display_name": "Python 3",
      "language": "python",
      "name": "python3"
    },
    "language_info": {
      "codemirror_mode": {
        "name": "ipython",
        "version": 3
      },
      "file_extension": ".py",
      "mimetype": "text/x-python",
      "name": "python",
      "nbconvert_exporter": "python",
      "pygments_lexer": "ipython3",
      "version": "3.10.12"
    }
  },
  "nbformat": 4,
  "nbformat_minor": 0
}

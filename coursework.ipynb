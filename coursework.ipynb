{
  "cells": [
    {
      "cell_type": "code",
      "source": [
        "# 21:30 07.05 4 hour work. Пора с этим апи писать работающую тему, показывать Афонину, чтобы он дальше направлял.\n",
        "!pip install g4f"
      ],
      "metadata": {
        "colab": {
          "base_uri": "https://localhost:8080/"
        },
        "id": "AoLcWx33fL4Z",
        "outputId": "bb3cef96-4279-42eb-e368-177864448db0"
      },
      "execution_count": 1,
      "outputs": [
        {
          "output_type": "stream",
          "name": "stdout",
          "text": [
            "Requirement already satisfied: g4f in /usr/local/lib/python3.10/dist-packages (0.3.1.0)\n",
            "Requirement already satisfied: requests in /usr/local/lib/python3.10/dist-packages (from g4f) (2.31.0)\n",
            "Requirement already satisfied: aiohttp in /usr/local/lib/python3.10/dist-packages (from g4f) (3.9.5)\n",
            "Requirement already satisfied: brotli in /usr/local/lib/python3.10/dist-packages (from g4f) (1.1.0)\n",
            "Requirement already satisfied: pycryptodome in /usr/local/lib/python3.10/dist-packages (from g4f) (3.20.0)\n",
            "Requirement already satisfied: aiosignal>=1.1.2 in /usr/local/lib/python3.10/dist-packages (from aiohttp->g4f) (1.3.1)\n",
            "Requirement already satisfied: attrs>=17.3.0 in /usr/local/lib/python3.10/dist-packages (from aiohttp->g4f) (23.2.0)\n",
            "Requirement already satisfied: frozenlist>=1.1.1 in /usr/local/lib/python3.10/dist-packages (from aiohttp->g4f) (1.4.1)\n",
            "Requirement already satisfied: multidict<7.0,>=4.5 in /usr/local/lib/python3.10/dist-packages (from aiohttp->g4f) (6.0.5)\n",
            "Requirement already satisfied: yarl<2.0,>=1.0 in /usr/local/lib/python3.10/dist-packages (from aiohttp->g4f) (1.9.4)\n",
            "Requirement already satisfied: async-timeout<5.0,>=4.0 in /usr/local/lib/python3.10/dist-packages (from aiohttp->g4f) (4.0.3)\n",
            "Requirement already satisfied: charset-normalizer<4,>=2 in /usr/local/lib/python3.10/dist-packages (from requests->g4f) (3.3.2)\n",
            "Requirement already satisfied: idna<4,>=2.5 in /usr/local/lib/python3.10/dist-packages (from requests->g4f) (3.7)\n",
            "Requirement already satisfied: urllib3<3,>=1.21.1 in /usr/local/lib/python3.10/dist-packages (from requests->g4f) (2.0.7)\n",
            "Requirement already satisfied: certifi>=2017.4.17 in /usr/local/lib/python3.10/dist-packages (from requests->g4f) (2024.2.2)\n"
          ]
        }
      ]
    },
    {
      "cell_type": "code",
      "execution_count": 2,
      "metadata": {
        "id": "A4Jp5kWqfGbb"
      },
      "outputs": [],
      "source": [
        "# 20:00. 5,5 hour work 06.05. Что я планирую сделать?\n",
        "# 1). В json формат засунуть ответы gpt , пройтись по 5-10 сайтам, возможно со сменой промптов\n",
        "# проверить что всё работает или найти случаи, когда может не работать и разобраться как это отлавливать.\n",
        "\n",
        "# 2). дальше скинуть ему скрины(не стесняйся писать!!! я же по факту пишу, а не флужу) и сказать, что вот обработал 5-10 сайтов, вот такие результаты , вроде отличные.\n",
        "# еще могу сказать ему, что если надо или интересно ему, то могу еще прикрутить тг бота, который по ссылке и промпту вернет всё пользователю\n",
        "# но приходится долго ждать, поскольку мы дергаем апи и зафайнтюнить тут очев не выйдет\n",
        "# 3). следующий этап тогда скачать ллм уже локально (лучше на мак, он точно не сломается) , проверить как они будут работать\n",
        "# если что-то нормальное, то отлично идём файнтюнить (hf Trainer or AutoTrain) читаю доку, там должно быть очень просто по словам Влада и делаю\n",
        "# 4). в конце концов обсудить с ним(именно с ним, а не с друзьями-кентами, у которых могут быть другие требования)\n",
        "# что мне нужно писать в самой курсовой, есть ли какой-то жеский формат или я делаю презентацию просто в свободной форме"
      ]
    },
    {
      "cell_type": "code",
      "execution_count": 14,
      "metadata": {
        "id": "cAEpcGI4fGbe"
      },
      "outputs": [],
      "source": [
        "test_conferences = [\n",
        "    \"https://www.inf.fu-berlin.de/inst/ag-ti/socg22/socg.html\",\n",
        "    \"https://icerm.brown.edu/topical_workshops/tw-24-ips/\",\n",
        "    \"https://www.siam.org/conferences/cm/conference/la24\",\n",
        "    \"https://www.birs.ca/events/2024/5-day-workshops/24w5313\",\n",
        "    \"https://icerm.brown.edu/topical_workshops/tw-24-saso/\",\n",
        "    \"https://indico.ictp.it/event/10516\",\n",
        "    \"https://icofca.com/\",\n",
        "    \"https://moad2024.sciencesconf.org/\", # нет спикеров\n",
        "    \"http://caim.romai.ro/Caim24/caim_24.htm\", # нет спикеров\n",
        "    \"https://ima.org.uk/23503/4th-ima-conference-on-inverse-problems-from-theory-to-application/\", # обрати внимание, чтобы извлекались только спикеры, а не организационный комитет\n",
        "    \"https://sites.google.com/view/atsf2024/home?authuser=0\", # нет спикеров, попробуй отдельно отсюда их извлечь https://sites.google.com/view/atsf2024/invited-speakers?authuser=0\n",
        "    \"https://boolean.w.uib.no/bfa-2024/\", # опять же проверь, что только нужные спикеры извлекаются, а не орг комитеты еще и тд\n",
        "    ]"
      ]
    },
    {
      "cell_type": "code",
      "execution_count": 15,
      "metadata": {
        "id": "fV7PDoeHfGbf"
      },
      "outputs": [],
      "source": [
        "from g4f.client import Client\n",
        "\n",
        "client = Client()\n",
        "def ask(promt):\n",
        "    response = client.chat.completions.create(\n",
        "        model=\"gpt-3.5-turbo\",\n",
        "        messages=[{\"role\": \"user\", \"content\": promt}],\n",
        "    )\n",
        "\n",
        "    return response.choices[0].message.content\n",
        "\n",
        "user_agent = \"Mozilla/5.0 (X11; Ubuntu; Linux x86_64; rv:125.0) Gecko/20100101 Firefox/125.0\"\n",
        "headers = {\"User-Agent\": user_agent}"
      ]
    },
    {
      "cell_type": "code",
      "execution_count": 16,
      "metadata": {
        "id": "h8cPFd6UfGbg"
      },
      "outputs": [],
      "source": [
        "import numpy as np\n",
        "from urllib.request import urlopen, Request\n",
        "from urllib.error import HTTPError\n",
        "from bs4 import BeautifulSoup\n",
        "from time import sleep\n",
        "from tqdm import tqdm\n",
        "\n",
        "def extract_information(conferences):\n",
        "    texts = {url: \"\" for url in conferences}\n",
        "    resps = {url: \"\" for url in conferences}\n",
        "    MAXLEN = 15000\n",
        "    sleep_time = [1, 2, 3, 4, 5]\n",
        "\n",
        "    for url in tqdm(conferences):\n",
        "        try:\n",
        "            request = Request(url, None, headers)\n",
        "            response = urlopen(request)\n",
        "        except HTTPError as err:\n",
        "            texts[url] = None\n",
        "            resps[url] = \"Sorry, I can't follow this link\"\n",
        "            continue\n",
        "\n",
        "        html = response.read()\n",
        "        soup = BeautifulSoup(html, features=\"html.parser\")\n",
        "\n",
        "        for script in soup([\"script\", \"style\"]):\n",
        "            script.extract()\n",
        "\n",
        "        text = soup.get_text()\n",
        "\n",
        "        lines = (line.strip() for line in text.splitlines())\n",
        "        # break multi-headlines into a line each\n",
        "        chunks = (phrase.strip() for line in lines for phrase in line.split(\"  \"))\n",
        "        # drop blank lines\n",
        "        text = '\\n'.join(chunk for chunk in chunks if chunk)\n",
        "        text = text[:MAXLEN]\n",
        "\n",
        "        texts[url] = text\n",
        "        promt = 'find and return 4 lists (in structure: (number of list) : [only data in list, without any artifacts]): first includes only: \"topics\", second  includes only: \"speakers\", third includes only: \"time and date\",  fourth includes only:\"place\" ' + text\n",
        "        resps[url] = ask(promt)\n",
        "\n",
        "        sleep(np.random.choice(sleep_time)) # not banned\n",
        "\n",
        "    return texts, resps"
      ]
    },
    {
      "cell_type": "code",
      "source": [
        "texts, resps = extract_information(test_conferences[:7])"
      ],
      "metadata": {
        "colab": {
          "base_uri": "https://localhost:8080/"
        },
        "id": "gGrwgVsyoivD",
        "outputId": "745fe628-4ca5-4d1e-c4de-228b59c4fb52"
      },
      "execution_count": 17,
      "outputs": [
        {
          "output_type": "stream",
          "name": "stderr",
          "text": [
            "100%|██████████| 7/7 [00:45<00:00,  6.56s/it]\n"
          ]
        }
      ]
    },
    {
      "cell_type": "code",
      "source": [
        "def find_date(dates):\n",
        "    result = []\n",
        "    months = [\"jan\", \"feb\", \"mar\", \"apr\", \"may\", \"jun\", \"jul\", \"aug\", \"sep\", \"oct\", \"nov\", \"dec\"]\n",
        "    nums = [\"1\", \"2\", \"3\", \"4\", \"5\", \"6\", \"7\", \"8\", \"9\"]\n",
        "    for date in dates:\n",
        "        if sum(1 if month in date.lower() else 0 for month in months) * sum(1 if num in date.lower() else 0 for num in nums):\n",
        "            result.append(date)\n",
        "\n",
        "    return result"
      ],
      "metadata": {
        "id": "rSHyLmBCypB3"
      },
      "execution_count": 7,
      "outputs": []
    },
    {
      "cell_type": "code",
      "source": [
        "import re\n",
        "\n",
        "def re_preprocessing(resp, url):\n",
        "    if re.search(r'[a-z]', resp.lower()) is None:\n",
        "        return {\"gpt_resp\": resp, \"warning\": \"Sorry I couldn't process this site. Please try again\"}\n",
        "\n",
        "    keys = [\"topics\", \"speakers\", \"time and date\", \"place\"]\n",
        "    indexes = dict()\n",
        "    for i, key in enumerate(keys):\n",
        "        s = re.search(f'{i + 1}' + r'.{0,}' + f'{key}', resp.lower())\n",
        "        indexes[key] = resp.lower().find(s[0]) if s else -1\n",
        "\n",
        "    res = {\"url\": url}\n",
        "    res[\"gpt_resp\"] = resp\n",
        "    # нет ключевых слов в выдаче, значит gpt вернула ответ в формате списков\n",
        "    if set(indexes.values()) == {-1}:\n",
        "        for i, key in enumerate(keys):\n",
        "            if \"\\n\\n\" in resp:\n",
        "                theme = resp.split(\"\\n\\n\")[i]\n",
        "            else:\n",
        "                theme = resp.split(\"\\n\")[i]\n",
        "            theme = theme[theme.find('['):]\n",
        "            try:\n",
        "                theme = eval(theme)\n",
        "            except:\n",
        "                theme = theme[1:-1].split(\", \")\n",
        "\n",
        "            res[key] = theme if len(theme) > 0 and re.search(\"\\w\", f\"{theme[0]}\") else [f\"There's no specific list of {key} provided in the text\"]\n",
        "\n",
        "        res[\"time and date\"] = find_date(res[\"time and date\"])\n",
        "        return res\n",
        "\n",
        "    for i, key in enumerate(keys):\n",
        "        if i + 1 == len(keys):\n",
        "            theme = resp[indexes[key]:]\n",
        "            theme = theme if \"\\n\\n\" not in theme else theme[:theme.find(\"\\n\\n\")]\n",
        "        else:\n",
        "            theme = resp[indexes[key]:indexes[keys[i + 1]]]\n",
        "\n",
        "        theme = theme.strip()\n",
        "        if \"\\n\" in theme: # то есть разделены по переносу строки\n",
        "            theme = [t.strip() for t in theme.split(\"\\n\")[1:] if t]\n",
        "            theme = [t[1:].strip() if t.startswith(\"-\") else t for t in theme]\n",
        "        else: # вероятно ответ оформлен в виде списка с перечислением через запятую: '[a, b, c, d]' or '[\"a\", \"b\", \"c\", \"d\"]'\n",
        "            theme = theme[theme.find('['):]\n",
        "            try:\n",
        "                theme = eval(theme)\n",
        "            except:\n",
        "                theme = theme[1:-1].split(\", \")\n",
        "\n",
        "        theme = theme[1:] if key.lower() in theme[0].lower() else theme\n",
        "        res[key] = theme if len(theme) > 0 and re.search(\"\\w\", f\"{theme[0]}\") else [f\"There's no specific list of {key} provided in the text\"]\n",
        "\n",
        "    res[\"time and date\"] = find_date(res[\"time and date\"])\n",
        "    return res"
      ],
      "metadata": {
        "id": "Izu9wYS45B1O"
      },
      "execution_count": 8,
      "outputs": []
    },
    {
      "cell_type": "code",
      "source": [
        "resps[test_conferences[0]], len(texts[test_conferences[0]])"
      ],
      "metadata": {
        "colab": {
          "base_uri": "https://localhost:8080/"
        },
        "id": "cgEGfz2a3GMq",
        "outputId": "1c05d867-a492-432d-839d-6e6cc4873b55"
      },
      "execution_count": 18,
      "outputs": [
        {
          "output_type": "execute_result",
          "data": {
            "text/plain": [
              "('', 15000)"
            ]
          },
          "metadata": {},
          "execution_count": 18
        }
      ]
    },
    {
      "cell_type": "code",
      "source": [
        "resps[test_conferences[1]], len(texts[test_conferences[1]])"
      ],
      "metadata": {
        "colab": {
          "base_uri": "https://localhost:8080/"
        },
        "id": "ka7COFF23n7r",
        "outputId": "eddd33a1-8fad-4f63-bac6-a25f902ab35f"
      },
      "execution_count": 19,
      "outputs": [
        {
          "output_type": "execute_result",
          "data": {
            "text/plain": [
              "('', 15000)"
            ]
          },
          "metadata": {},
          "execution_count": 19
        }
      ]
    },
    {
      "cell_type": "code",
      "source": [
        "resps[test_conferences[2]], len(texts[test_conferences[2]])"
      ],
      "metadata": {
        "colab": {
          "base_uri": "https://localhost:8080/"
        },
        "id": "a5CQiVZ43yUT",
        "outputId": "af8f1f4d-55e1-4893-e26d-9a071c312e53"
      },
      "execution_count": 20,
      "outputs": [
        {
          "output_type": "execute_result",
          "data": {
            "text/plain": [
              "('当前地区当日额度已消耗完, 请尝试更换网络环境', 11577)"
            ]
          },
          "metadata": {},
          "execution_count": 20
        }
      ]
    },
    {
      "cell_type": "code",
      "source": [
        "resps[test_conferences[3]], len(texts[test_conferences[3]])"
      ],
      "metadata": {
        "colab": {
          "base_uri": "https://localhost:8080/"
        },
        "id": "5V9sIsW73yXM",
        "outputId": "00dfb92f-9e2b-4586-8419-a8d929795082"
      },
      "execution_count": 21,
      "outputs": [
        {
          "output_type": "execute_result",
          "data": {
            "text/plain": [
              "('', 3819)"
            ]
          },
          "metadata": {},
          "execution_count": 21
        }
      ]
    },
    {
      "cell_type": "code",
      "source": [
        "resps[test_conferences[4]], len(texts[test_conferences[4]])"
      ],
      "metadata": {
        "colab": {
          "base_uri": "https://localhost:8080/"
        },
        "id": "jBnRMLCD4N7D",
        "outputId": "8194ce54-e14d-469c-c620-df0f7213c3b1"
      },
      "execution_count": 22,
      "outputs": [
        {
          "output_type": "execute_result",
          "data": {
            "text/plain": [
              "('', 11602)"
            ]
          },
          "metadata": {},
          "execution_count": 22
        }
      ]
    },
    {
      "cell_type": "code",
      "source": [
        "resps[test_conferences[5]], len(texts[test_conferences[5]])"
      ],
      "metadata": {
        "colab": {
          "base_uri": "https://localhost:8080/"
        },
        "id": "y-xPlpfX4N9o",
        "outputId": "842705b1-309d-46fc-ff37-bdec7b9509fe"
      },
      "execution_count": 23,
      "outputs": [
        {
          "output_type": "execute_result",
          "data": {
            "text/plain": [
              "('当前地区当日额度已消耗完, 请尝试更换网络环境', 3546)"
            ]
          },
          "metadata": {},
          "execution_count": 23
        }
      ]
    },
    {
      "cell_type": "code",
      "source": [
        "resps[test_conferences[6]], len(texts[test_conferences[6]])"
      ],
      "metadata": {
        "id": "BFDwl7QS4OAc",
        "colab": {
          "base_uri": "https://localhost:8080/"
        },
        "outputId": "ce25d1dc-a12f-4e62-bad2-13c8bd23f406"
      },
      "execution_count": 24,
      "outputs": [
        {
          "output_type": "execute_result",
          "data": {
            "text/plain": [
              "('', 7187)"
            ]
          },
          "metadata": {},
          "execution_count": 24
        }
      ]
    },
    {
      "cell_type": "code",
      "source": [
        "re_preprocessing(resps[test_conferences[7]], test_conferences[7])"
      ],
      "metadata": {
        "colab": {
          "base_uri": "https://localhost:8080/"
        },
        "id": "b34TGwR13Jzq",
        "outputId": "5e7ae7d7-ad90-42b1-9c48-5ef34833931b"
      },
      "execution_count": null,
      "outputs": [
        {
          "output_type": "execute_result",
          "data": {
            "text/plain": [
              "{'url': 'https://icofca.com/',\n",
              " 'gpt_resp': '1: [\"topics\", \"Fractional Differential Equations\", \"Fractional Partial Differential Equations\", \"Theory of existence and uniqueness of solutions\", \"Stability analysis\", \"Boundary value problems\", \"Inverse problems\", \"Fractional Control Systems\", \"Applications in Physics, Engineering, Biology, and more.\"]\\n2: [\"speakers\", \"Prof. Dumitru Baleanu\"]\\n3: [\"time and date\", \"From December 26, 2024, to December 30, 2024\"]\\n4: [\"place\", \"Sousse - Tunisie\"]',\n",
              " 'topics': ['Fractional Differential Equations',\n",
              "  'Fractional Partial Differential Equations',\n",
              "  'Theory of existence and uniqueness of solutions',\n",
              "  'Stability analysis',\n",
              "  'Boundary value problems',\n",
              "  'Inverse problems',\n",
              "  'Fractional Control Systems',\n",
              "  'Applications in Physics, Engineering, Biology, and more.'],\n",
              " 'speakers': ['Prof. Dumitru Baleanu'],\n",
              " 'time and date': ['From December 26, 2024, to December 30, 2024'],\n",
              " 'place': ['Sousse - Tunisie']}"
            ]
          },
          "metadata": {},
          "execution_count": 39
        }
      ]
    },
    {
      "cell_type": "code",
      "source": [],
      "metadata": {
        "id": "oA3Fl0fz3KP-"
      },
      "execution_count": null,
      "outputs": []
    },
    {
      "cell_type": "code",
      "source": [
        "import json\n",
        "for url in test_conferences[:1]:\n",
        "    with open(f'{url.split(\"/\")[-2]}.json', 'w') as fp:\n",
        "        json.dump(re_preprocessing(resps[url], url), fp)"
      ],
      "metadata": {
        "id": "DEVbPkyk1ZXs"
      },
      "execution_count": 13,
      "outputs": []
    },
    {
      "cell_type": "code",
      "source": [],
      "metadata": {
        "id": "MuNBYrhe1ZdL"
      },
      "execution_count": null,
      "outputs": []
    },
    {
      "cell_type": "code",
      "source": [
        "for key, val in re_preprocessing(resps[test_conferences[0]]).items():\n",
        "    print(key)\n",
        "    print(val)\n",
        "    print(\"\\n\\n\")"
      ],
      "metadata": {
        "colab": {
          "base_uri": "https://localhost:8080/"
        },
        "id": "4TfxrIBqrOiN",
        "outputId": "42e10aa6-05d8-4714-ca05-1785b5a88d71"
      },
      "execution_count": null,
      "outputs": [
        {
          "output_type": "stream",
          "name": "stdout",
          "text": [
            "gpt_resp\n",
            "Here are the requested lists:\n",
            "\n",
            "1. **Topics**:\n",
            "   - Grammars, acceptors, and transducers for words, trees, and graphs\n",
            "   - Algebraic theories of automata\n",
            "   - Algorithmic, combinatorial, and algebraic properties of words and languages\n",
            "   - Variable length codes\n",
            "   - Symbolic dynamics\n",
            "   - Cellular automata\n",
            "   - Polyominoes and multidimensional patterns\n",
            "   - Decidability questions\n",
            "   - Image manipulation and compression\n",
            "   - Efficient text algorithms\n",
            "   - Relationships to cryptography, concurrency, complexity theory, and logic\n",
            "   - Bio-inspired computing\n",
            "   - Quantum computing\n",
            "\n",
            "2. **Speakers**:\n",
            "   - Tomohiro I\n",
            "   - Bakhadyr Khoussainov\n",
            "   - Alexander Okhotin\n",
            "   - Dominique Perrin\n",
            "   - Marinella Sciortino\n",
            "   - Andrew Winslow\n",
            "\n",
            "3. **Time and Date**:\n",
            "   - Conference: September 10-14, 2018\n",
            "\n",
            "4. **Place**:\n",
            "   - Tokyo, Japan\n",
            "\n",
            "\n",
            "\n",
            "topics\n",
            "['Grammars, acceptors, and transducers for words, trees, and graphs', 'Algebraic theories of automata', 'Algorithmic, combinatorial, and algebraic properties of words and languages', 'Variable length codes', 'Symbolic dynamics', 'Cellular automata', 'Polyominoes and multidimensional patterns', 'Decidability questions', 'Image manipulation and compression', 'Efficient text algorithms', 'Relationships to cryptography, concurrency, complexity theory, and logic', 'Bio-inspired computing', 'Quantum computing']\n",
            "\n",
            "\n",
            "\n",
            "speakers\n",
            "['Tomohiro I', 'Bakhadyr Khoussainov', 'Alexander Okhotin', 'Dominique Perrin', 'Marinella Sciortino', 'Andrew Winslow']\n",
            "\n",
            "\n",
            "\n",
            "time and date\n",
            "['Conference: September 10-14, 2018']\n",
            "\n",
            "\n",
            "\n",
            "place\n",
            "['Tokyo, Japan']\n",
            "\n",
            "\n",
            "\n"
          ]
        }
      ]
    },
    {
      "cell_type": "code",
      "source": [],
      "metadata": {
        "id": "5KpjQ4WYrOpK"
      },
      "execution_count": null,
      "outputs": []
    },
    {
      "cell_type": "code",
      "source": [],
      "metadata": {
        "id": "k8aSVaMcrOsT"
      },
      "execution_count": null,
      "outputs": []
    },
    {
      "cell_type": "code",
      "source": [
        "print(resps[test_conferences[11]])"
      ],
      "metadata": {
        "colab": {
          "base_uri": "https://localhost:8080/"
        },
        "id": "JNyi6SFziChM",
        "outputId": "62faeef1-b005-49c7-8abd-bc3b78132776"
      },
      "execution_count": null,
      "outputs": [
        {
          "output_type": "stream",
          "name": "stdout",
          "text": [
            "Here are the four lists you requested:\n",
            "\n",
            "1. List of topics:\n",
            "- Foundational theory of Boolean functions and discrete structures\n",
            "- Design, proposal, and analysis of cryptographically significant (vectorial) Boolean functions\n",
            "- The study of applications of (vectorial) Boolean functions to cryptography, codes, and other discrete structures\n",
            "- Theory and construction of quantum Boolean functions\n",
            "- Theory of finite fields and its applications in cryptography and coding theory\n",
            "\n",
            "2. List of speakers:\n",
            "- Markus Grassl, University Gdansk\n",
            "- Sylvain Guilley, TELECOM-ParisTech\n",
            "- Tor Helleseth, University of Bergen, Norway\n",
            "- Gregor Leander, Ruhr-Universität Bochum, Germany\n",
            "- Gábor Péter Nagy, Budapest University of Technology and Economics, Hungary\n",
            "- Claude Carlet, University of Paris VIII, France, and University of Bergen, Norway\n",
            "- Sihem Mesnager, University of Paris VIII and Sorbonne University North, France\n",
            "- Stjepan Picek, Radboud University, the Netherlands\n",
            "\n",
            "3. List of time and date:\n",
            "- Submission deadline: May 15, 2024\n",
            "- Acceptance notification: July 1, 2024\n",
            "- Camera-ready submission: August 1, 2024\n",
            "- Early registration deadline for physical participation: July 15, 2024\n",
            "- Registration deadline for physical participation: August 17, 2024\n",
            "- Video submission of presentations: August 20, 2024\n",
            "- BFA 2024 workshop dates: September 9 - September 13, 2024\n",
            "\n",
            "4. List of places:\n",
            "- Inter-University Centre Dubrovnik, Croatia (venue for the workshop)\n",
            "- Student dormitory (accommodation option)\n",
            "- Apartment or hotel (alternative accommodation option)\n",
            "\n",
            "Please note that these lists have been extracted from the provided text.\n"
          ]
        }
      ]
    },
    {
      "cell_type": "code",
      "source": [
        "for key, val in re_preprocessing(resps[test_conferences[11]]).items():\n",
        "    print(key)\n",
        "    print(val)\n",
        "    print(\"\\n\\n\")"
      ],
      "metadata": {
        "colab": {
          "base_uri": "https://localhost:8080/"
        },
        "id": "IS6RoHIPim6O",
        "outputId": "e2a34c2e-d985-41e7-b198-43105531381f"
      },
      "execution_count": null,
      "outputs": [
        {
          "output_type": "stream",
          "name": "stdout",
          "text": [
            "gpt_resp\n",
            "Here are the four lists you requested:\n",
            "\n",
            "1. List of topics:\n",
            "- Foundational theory of Boolean functions and discrete structures\n",
            "- Design, proposal, and analysis of cryptographically significant (vectorial) Boolean functions\n",
            "- The study of applications of (vectorial) Boolean functions to cryptography, codes, and other discrete structures\n",
            "- Theory and construction of quantum Boolean functions\n",
            "- Theory of finite fields and its applications in cryptography and coding theory\n",
            "\n",
            "2. List of speakers:\n",
            "- Markus Grassl, University Gdansk\n",
            "- Sylvain Guilley, TELECOM-ParisTech\n",
            "- Tor Helleseth, University of Bergen, Norway\n",
            "- Gregor Leander, Ruhr-Universität Bochum, Germany\n",
            "- Gábor Péter Nagy, Budapest University of Technology and Economics, Hungary\n",
            "- Claude Carlet, University of Paris VIII, France, and University of Bergen, Norway\n",
            "- Sihem Mesnager, University of Paris VIII and Sorbonne University North, France\n",
            "- Stjepan Picek, Radboud University, the Netherlands\n",
            "\n",
            "3. List of time and date:\n",
            "- Submission deadline: May 15, 2024\n",
            "- Acceptance notification: July 1, 2024\n",
            "- Camera-ready submission: August 1, 2024\n",
            "- Early registration deadline for physical participation: July 15, 2024\n",
            "- Registration deadline for physical participation: August 17, 2024\n",
            "- Video submission of presentations: August 20, 2024\n",
            "- BFA 2024 workshop dates: September 9 - September 13, 2024\n",
            "\n",
            "4. List of places:\n",
            "- Inter-University Centre Dubrovnik, Croatia (venue for the workshop)\n",
            "- Student dormitory (accommodation option)\n",
            "- Apartment or hotel (alternative accommodation option)\n",
            "\n",
            "Please note that these lists have been extracted from the provided text.\n",
            "\n",
            "\n",
            "\n",
            "topics\n",
            "['Foundational theory of Boolean functions and discrete structures', 'Design, proposal, and analysis of cryptographically significant (vectorial) Boolean functions', 'The study of applications of (vectorial) Boolean functions to cryptography, codes, and other discrete structures', 'Theory and construction of quantum Boolean functions', 'Theory of finite fields and its applications in cryptography and coding theory']\n",
            "\n",
            "\n",
            "\n",
            "speakers\n",
            "['Markus Grassl, University Gdansk', 'Sylvain Guilley, TELECOM-ParisTech', 'Tor Helleseth, University of Bergen, Norway', 'Gregor Leander, Ruhr-Universität Bochum, Germany', 'Gábor Péter Nagy, Budapest University of Technology and Economics, Hungary', 'Claude Carlet, University of Paris VIII, France, and University of Bergen, Norway', 'Sihem Mesnager, University of Paris VIII and Sorbonne University North, France', 'Stjepan Picek, Radboud University, the Netherlands']\n",
            "\n",
            "\n",
            "\n",
            "time and date\n",
            "['Submission deadline: May 15, 2024', 'Acceptance notification: July 1, 2024', 'Camera-ready submission: August 1, 2024', 'Early registration deadline for physical participation: July 15, 2024', 'Registration deadline for physical participation: August 17, 2024', 'Video submission of presentations: August 20, 2024', 'BFA 2024 workshop dates: September 9 - September 13, 2024']\n",
            "\n",
            "\n",
            "\n",
            "place\n",
            "['Inter-University Centre Dubrovnik, Croatia (venue for the workshop)', 'Student dormitory (accommodation option)', 'Apartment or hotel (alternative accommodation option)']\n",
            "\n",
            "\n",
            "\n"
          ]
        }
      ]
    },
    {
      "cell_type": "code",
      "source": [],
      "metadata": {
        "id": "1QAEsRdGim9G"
      },
      "execution_count": null,
      "outputs": []
    },
    {
      "cell_type": "code",
      "source": [
        "print(resps[test_conferences[9]])\n",
        "# хороший пример когда gpt ничего не ответила"
      ],
      "metadata": {
        "colab": {
          "base_uri": "https://localhost:8080/"
        },
        "id": "RkfBWV7y79qK",
        "outputId": "fd821c96-31ef-412e-ee34-51775c6fa91e"
      },
      "execution_count": null,
      "outputs": [
        {
          "output_type": "stream",
          "name": "stdout",
          "text": [
            "\n"
          ]
        }
      ]
    },
    {
      "cell_type": "code",
      "source": [],
      "metadata": {
        "id": "vkF3-xqNiQTr"
      },
      "execution_count": null,
      "outputs": []
    },
    {
      "cell_type": "code",
      "source": [],
      "metadata": {
        "id": "yqv-f8oTiQWl"
      },
      "execution_count": null,
      "outputs": []
    },
    {
      "cell_type": "code",
      "source": [
        "# хороший пример когда time and date и place содержит несколько элементов в списке и нужно выбирать.\n",
        "# в time and date у меня есть идея как , а вот на place походу забить придется и так выдавать\n",
        "for key, val in re_preprocessing(resps[test_conferences[8]]).items():\n",
        "    print(key)\n",
        "    print(val)\n",
        "    print(\"\\n\\n\")"
      ],
      "metadata": {
        "colab": {
          "base_uri": "https://localhost:8080/"
        },
        "id": "BHy4kFUA79s_",
        "outputId": "31453c6a-8b41-4c83-b445-b31623c9fb39"
      },
      "execution_count": null,
      "outputs": [
        {
          "output_type": "stream",
          "name": "stdout",
          "text": [
            "gpt_resp\n",
            "Here are the four lists extracted from the provided text:\n",
            "\n",
            "1. **Topics**:\n",
            "   - Partial Differential Equations\n",
            "   - Ordinary Differential Equations, Dynamical Systems\n",
            "   - Mathematical Modeling in Engineering and Life Sciences\n",
            "   - Real, Complex, Functional and Numerical Analysis\n",
            "   - Probability Theory, Mathematical Statistics, Operations Research\n",
            "   - Algebra, Logic, Geometry\n",
            "   - Computer Science\n",
            "   - Education\n",
            "\n",
            "2. **Speakers**: *(No specific list of speakers is provided in the text.)*\n",
            "\n",
            "3. **Time and Date**:\n",
            "   - Conference Dates: September 19-22, 2024\n",
            "   - Important Dates:\n",
            "     - Deadline for submitting abstracts: August 15, 2024\n",
            "     - Notification of accepted abstracts: August 20, 2024\n",
            "     - Deadline for submitting final paper (didactic Section): August 20, 2024\n",
            "     - Deadline for reduced fee: September 1, 2024\n",
            "     - Registration deadline: September 1, 2024\n",
            "\n",
            "4. **Place**:\n",
            "   - Location: University of Oradea, Universitatii 1, Romania\n",
            "   - Accommodation: Limited rooms in a student campus; Oradea has various hotels available\n",
            "   - Transport: Oradea is well-connected by plane, train, or car; Oradea International Airport (IAS) and Oradea Train Station (CFR) are the main entry points\n",
            "   - Contact: Organizing Committee members - Stelian Ion, Georgia Irina Oros\n",
            "\n",
            "Let me know if you need further assistance!\n",
            "\n",
            "\n",
            "\n",
            "topics\n",
            "['Partial Differential Equations', 'Ordinary Differential Equations, Dynamical Systems', 'Mathematical Modeling in Engineering and Life Sciences', 'Real, Complex, Functional and Numerical Analysis', 'Probability Theory, Mathematical Statistics, Operations Research', 'Algebra, Logic, Geometry', 'Computer Science', 'Education']\n",
            "\n",
            "\n",
            "\n",
            "speakers\n",
            "[\"There's no specific list of speakers provided in the text\"]\n",
            "\n",
            "\n",
            "\n",
            "time and date\n",
            "['Conference Dates: September 19-22, 2024', 'Important Dates:', 'Deadline for submitting abstracts: August 15, 2024', 'Notification of accepted abstracts: August 20, 2024', 'Deadline for submitting final paper (didactic Section): August 20, 2024', 'Deadline for reduced fee: September 1, 2024', 'Registration deadline: September 1, 2024']\n",
            "\n",
            "\n",
            "\n",
            "place\n",
            "['Location: University of Oradea, Universitatii 1, Romania', 'Accommodation: Limited rooms in a student campus; Oradea has various hotels available', 'Transport: Oradea is well-connected by plane, train, or car; Oradea International Airport (IAS) and Oradea Train Station (CFR) are the main entry points', 'Contact: Organizing Committee members - Stelian Ion, Georgia Irina Oros']\n",
            "\n",
            "\n",
            "\n"
          ]
        }
      ]
    },
    {
      "cell_type": "code",
      "source": [
        "re_preprocessing(resps[test_conferences[3]])"
      ],
      "metadata": {
        "colab": {
          "base_uri": "https://localhost:8080/"
        },
        "id": "m_HTTQteAxnB",
        "outputId": "a07e7007-af82-49a6-965d-b9f40dde40b8"
      },
      "execution_count": null,
      "outputs": [
        {
          "output_type": "execute_result",
          "data": {
            "text/plain": [
              "{'topics': ['Homological Perspective on Splines and Finite Elements'],\n",
              " 'speakers': ['Tanya Sorokina (Towson University)',\n",
              "  'Martina Lanini (University of Rome Tor Vergata)',\n",
              "  'Ulrich Reif (Technische Universtität Darmstadt)',\n",
              "  'Deepesh Toshniwal (Delft University of Technology)',\n",
              "  'Jenna Rajchgot (McMaster University)'],\n",
              " 'time and date': ['May 19 - 24, 2024'],\n",
              " 'place': ['UBC Okanagan campus in Kelowna, B.C., Canad']}"
            ]
          },
          "metadata": {},
          "execution_count": 33
        }
      ]
    },
    {
      "cell_type": "code",
      "source": [],
      "metadata": {
        "id": "RXboFl7A8CFz"
      },
      "execution_count": null,
      "outputs": []
    },
    {
      "cell_type": "code",
      "source": [],
      "metadata": {
        "id": "S558HzFE8CIU"
      },
      "execution_count": null,
      "outputs": []
    },
    {
      "cell_type": "code",
      "source": [],
      "metadata": {
        "id": "iL6bTVXC79vo"
      },
      "execution_count": null,
      "outputs": []
    },
    {
      "cell_type": "code",
      "source": [
        "\"\"\"\n",
        "Что буду делать в среду 08.05. И если тчо не стесняйся потом еще ему писать в праздники, пох, надо работать, он точно на это не обидется:\n",
        "Пробежавшись по первому тестовому сету увидел пока одну проблему: вместо спикеров любит извлечь комитет, или просто какого-то чела, особенно если спикеры не указаны\n",
        "Нужно написать проверку полноты, запустить на новом тестовом сете и отправлять завтра (в среду) результаты Афонину и спрашивать, что можно делать дальше с этим\n",
        "Хотя учитывая, что gpt каждый раз по-разному генерит, то в целом один и тот же сет, можно использовать постоянно, но всё-таки если не лень, то потом новый собрать\n",
        "\"\"\""
      ],
      "metadata": {
        "id": "ljN7u2HSNJKW"
      },
      "execution_count": null,
      "outputs": []
    },
    {
      "cell_type": "code",
      "source": [],
      "metadata": {
        "id": "sEP9yKkONJNh"
      },
      "execution_count": null,
      "outputs": []
    },
    {
      "cell_type": "code",
      "source": [
        "for url, resp in resps.items():\n",
        "    print(url)\n",
        "    for key, val in re_preprocessing(resp).items():\n",
        "        print(key)\n",
        "        print(val)\n",
        "        print(\"\\n\")\n",
        "    print(\"\\n\\n\")"
      ],
      "metadata": {
        "colab": {
          "base_uri": "https://localhost:8080/",
          "height": 228
        },
        "id": "apg4FXQ0dqGr",
        "outputId": "32523ef7-b323-40d7-ac2d-90d489da4b73"
      },
      "execution_count": null,
      "outputs": [
        {
          "output_type": "stream",
          "name": "stdout",
          "text": [
            "http://dlt2018.uec.ac.jp/\n"
          ]
        },
        {
          "output_type": "error",
          "ename": "TypeError",
          "evalue": "re_preprocessing() missing 1 required positional argument: 'url'",
          "traceback": [
            "\u001b[0;31m---------------------------------------------------------------------------\u001b[0m",
            "\u001b[0;31mTypeError\u001b[0m                                 Traceback (most recent call last)",
            "\u001b[0;32m<ipython-input-19-50847c8ad72c>\u001b[0m in \u001b[0;36m<cell line: 1>\u001b[0;34m()\u001b[0m\n\u001b[1;32m      1\u001b[0m \u001b[0;32mfor\u001b[0m \u001b[0murl\u001b[0m\u001b[0;34m,\u001b[0m \u001b[0mresp\u001b[0m \u001b[0;32min\u001b[0m \u001b[0mresps\u001b[0m\u001b[0;34m.\u001b[0m\u001b[0mitems\u001b[0m\u001b[0;34m(\u001b[0m\u001b[0;34m)\u001b[0m\u001b[0;34m:\u001b[0m\u001b[0;34m\u001b[0m\u001b[0;34m\u001b[0m\u001b[0m\n\u001b[1;32m      2\u001b[0m     \u001b[0mprint\u001b[0m\u001b[0;34m(\u001b[0m\u001b[0murl\u001b[0m\u001b[0;34m)\u001b[0m\u001b[0;34m\u001b[0m\u001b[0;34m\u001b[0m\u001b[0m\n\u001b[0;32m----> 3\u001b[0;31m     \u001b[0;32mfor\u001b[0m \u001b[0mkey\u001b[0m\u001b[0;34m,\u001b[0m \u001b[0mval\u001b[0m \u001b[0;32min\u001b[0m \u001b[0mre_preprocessing\u001b[0m\u001b[0;34m(\u001b[0m\u001b[0mresp\u001b[0m\u001b[0;34m)\u001b[0m\u001b[0;34m.\u001b[0m\u001b[0mitems\u001b[0m\u001b[0;34m(\u001b[0m\u001b[0;34m)\u001b[0m\u001b[0;34m:\u001b[0m\u001b[0;34m\u001b[0m\u001b[0;34m\u001b[0m\u001b[0m\n\u001b[0m\u001b[1;32m      4\u001b[0m         \u001b[0mprint\u001b[0m\u001b[0;34m(\u001b[0m\u001b[0mkey\u001b[0m\u001b[0;34m)\u001b[0m\u001b[0;34m\u001b[0m\u001b[0;34m\u001b[0m\u001b[0m\n\u001b[1;32m      5\u001b[0m         \u001b[0mprint\u001b[0m\u001b[0;34m(\u001b[0m\u001b[0mval\u001b[0m\u001b[0;34m)\u001b[0m\u001b[0;34m\u001b[0m\u001b[0;34m\u001b[0m\u001b[0m\n",
            "\u001b[0;31mTypeError\u001b[0m: re_preprocessing() missing 1 required positional argument: 'url'"
          ]
        }
      ]
    },
    {
      "cell_type": "code",
      "source": [
        "\"3\" in resps[test_conferences[11]] # обработать такие случаи"
      ],
      "metadata": {
        "colab": {
          "base_uri": "https://localhost:8080/"
        },
        "id": "6TpSiKuad4E6",
        "outputId": "cb1c25c3-cb8b-4d9f-a5b0-11bf04021ba1"
      },
      "execution_count": null,
      "outputs": [
        {
          "output_type": "execute_result",
          "data": {
            "text/plain": [
              "False"
            ]
          },
          "metadata": {},
          "execution_count": 125
        }
      ]
    },
    {
      "cell_type": "code",
      "source": [],
      "metadata": {
        "id": "lU2oBTea3V36"
      },
      "execution_count": null,
      "outputs": []
    },
    {
      "cell_type": "code",
      "source": [],
      "metadata": {
        "id": "3D1F73eb3V6X"
      },
      "execution_count": null,
      "outputs": []
    },
    {
      "cell_type": "code",
      "source": [],
      "metadata": {
        "id": "EgIS1Vqk3V9O"
      },
      "execution_count": null,
      "outputs": []
    },
    {
      "cell_type": "code",
      "source": [
        "\"\"\"\n",
        "не являются спикерами\n",
        "1. **Speakers**:\n",
        "    - Organizing Committee Co-chairs:\n",
        "        - Laura Grigori, EPFL and PSI, Switzerland\n",
        "        - Daniel Kressner, EPFL, Switzerland\n",
        "\n",
        "интересный ответ\n",
        "\n",
        "2. **Speakers**:\n",
        "- No speakers listed in the provided text.\n",
        "\n",
        "нужно отпарсить даты и выбрать самую старшую позднюю, очев она и будет верной как дата конфференции\n",
        "3: [\"Submission deadline: May 15, 2024\", \"Acceptance notification: July 1, 2024\", \"Camera-ready submission: August 1, 2024\", \"Early registration deadline for physical participation: July 15, 2024\", \"Registration deadline for physical participation: August 17, 2024\", \"Video submission of presentations: August 20, 2024\", \"BFA 2024: September 09 – September 13, 2024\"],\n",
        "\"\"\""
      ],
      "metadata": {
        "id": "BEM_VbAL-nTo",
        "colab": {
          "base_uri": "https://localhost:8080/",
          "height": 87
        },
        "outputId": "510e4ffe-b142-4674-e094-e5b3e9dff3af"
      },
      "execution_count": null,
      "outputs": [
        {
          "output_type": "execute_result",
          "data": {
            "text/plain": [
              "'\\nне являются спикерами\\n1. **Speakers**:\\n    - Organizing Committee Co-chairs:\\n        - Laura Grigori, EPFL and PSI, Switzerland\\n        - Daniel Kressner, EPFL, Switzerland\\n\\nинтересный ответ\\n\\n2. **Speakers**:\\n- No speakers listed in the provided text.\\n\\nнужно отпарсить даты и выбрать самую старшую позднюю, очев она и будет верной как дата конфференции\\n3: [\"Submission deadline: May 15, 2024\", \"Acceptance notification: July 1, 2024\", \"Camera-ready submission: August 1, 2024\", \"Early registration deadline for physical participation: July 15, 2024\", \"Registration deadline for physical participation: August 17, 2024\", \"Video submission of presentations: August 20, 2024\", \"BFA 2024: September 09 – September 13, 2024\"],\\n'"
            ],
            "application/vnd.google.colaboratory.intrinsic+json": {
              "type": "string"
            }
          },
          "metadata": {},
          "execution_count": 277
        }
      ]
    },
    {
      "cell_type": "code",
      "source": [],
      "metadata": {
        "id": "9jQi6zHgw9ae"
      },
      "execution_count": null,
      "outputs": []
    },
    {
      "cell_type": "code",
      "source": [
        "# проверка на то, если дали сайт, который вообще не относится ни к какой конференции\n",
        "for key, text in texts.items():\n",
        "    triggers = [\"conference\", \"topic\", \"speaker\", \"date\", \"universit\", \"committee\"]\n",
        "    if sum(0 if trigger not in text.lower() else 1 for trigger in triggers) == 0:\n",
        "        print(key)"
      ],
      "metadata": {
        "id": "TuFpRDH1xV1M"
      },
      "execution_count": null,
      "outputs": []
    },
    {
      "cell_type": "code",
      "source": [],
      "metadata": {
        "id": "NGGKgK_UyyqY"
      },
      "execution_count": null,
      "outputs": []
    }
  ],
  "metadata": {
    "kernelspec": {
      "display_name": "Python 3",
      "language": "python",
      "name": "python3"
    },
    "language_info": {
      "codemirror_mode": {
        "name": "ipython",
        "version": 3
      },
      "file_extension": ".py",
      "mimetype": "text/x-python",
      "name": "python",
      "nbconvert_exporter": "python",
      "pygments_lexer": "ipython3",
      "version": "3.10.12"
    },
    "colab": {
      "provenance": []
    }
  },
  "nbformat": 4,
  "nbformat_minor": 0
}
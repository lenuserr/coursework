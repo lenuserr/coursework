{
 "cells": [
  {
   "cell_type": "code",
   "execution_count": 1,
   "metadata": {},
   "outputs": [],
   "source": [
    "conf_list = [\"https://www.inf.fu-berlin.de/inst/ag-ti/socg22/socg.html\"]"
   ]
  },
  {
   "cell_type": "code",
   "execution_count": 2,
   "metadata": {},
   "outputs": [],
   "source": [
    "from urllib.request import urlopen, Request\n",
    "from bs4 import BeautifulSoup\n",
    "from g4f.client import Client\n",
    "\n",
    "client = Client()\n",
    "def ask(promt):\n",
    "    response = client.chat.completions.create(\n",
    "        model=\"gpt-3.5-turbo\",\n",
    "        messages=[{\"role\": \"user\", \"content\": promt}],\n",
    "    )\n",
    "    print(response.choices[0].message.content)\n",
    "\n",
    "user_agent_mac = \"Mozilla/5.0 (Macintosh; Intel Mac OS X 10_15_7) AppleWebKit/605.1.15 (KHTML, like Gecko) Version/16.6 Safari/605.1.15\"\n",
    "user_agent_linux = \"Mozilla/5.0 (X11; Ubuntu; Linux x86_64; rv:125.0) Gecko/20100101 Firefox/125.0\" \n",
    "headers = {\"User-Agent\": user_agent_linux} "
   ]
  },
  {
   "cell_type": "code",
   "execution_count": 3,
   "metadata": {},
   "outputs": [],
   "source": [
    "def extract_information(url):\n",
    "    request = Request(url, None, headers) \n",
    "    response = urlopen(request)\n",
    "    html = response.read() \n",
    "    soup = BeautifulSoup(html, features=\"html.parser\")\n",
    "\n",
    "    for script in soup([\"script\", \"style\"]):\n",
    "        script.extract()    \n",
    "\n",
    "    text = soup.get_text()\n",
    "\n",
    "    lines = (line.strip() for line in text.splitlines())\n",
    "    # break multi-headlines into a line each\n",
    "    chunks = (phrase.strip() for line in lines for phrase in line.split(\"  \"))\n",
    "    # drop blank lines\n",
    "    text = '\\n'.join(chunk for chunk in chunks if chunk)\n",
    "\n",
    "    promt = 'find and return 4 lists (in structure: (number of list) : [only data in list, without any artifacts]): first includes only: \"topics\", second  includes only: \"speakers\", third includes only: \"time and data\",  fourth includes only:\"place\" ' + text\n",
    "    ask(promt)"
   ]
  },
  {
   "cell_type": "code",
   "execution_count": 4,
   "metadata": {},
   "outputs": [
    {
     "name": "stdout",
     "output_type": "stream",
     "text": [
      "New g4f version: 0.3.0.10 (current: 0.3.0.8) | pip install -U g4f\n",
      "1 : [\"Design, analysis, and implementation of geometric algorithms and data structures\", \"Computational complexity of geometric problems\", \"Implementation and experimental evaluation of geometric algorithms and heuristics, including mathematical, numerical, and algebraic aspects\", \"Discrete and combinatorial geometry\", \"Computational topology, topological data analysis, and topological combinatorics\", \"Applications of computational geometry in any field\"]\n",
      "2 : [\"Henry Adams (Colorado State University, USA)\", \"SangWon Bae (Kyonggi University, South Korea)\", \"Édouard Bonnet (ENS Lyon, France)\", \"Timothy Chan (University of Illinois at Urbana-Champaign, USA)\", \"Hsien-Chih Chang (Darthmouth College, USA)\", \"Hu Ding (University of Science and Technology, China)\", \"Vida Dujmović (University of Ottawa, Canada)\", \"Herbert Edelsbrunner (IST, Austria)\", \"Radoslav Fulek (UC San Diego, USA)\", \"Xavier Goaoc; co-chair (Université de Lorraine, France)\", \"Stefan Huber (Salzburg University of Applied Sciences, Austria)\", \"Michael Kerber; co-chair (TU Graz, Austria)\", \"Marc van Kreveld (Utrecht University, The Netherlands)\", \"Claudia Landi (Università di Modena, Italy)\", \"Sepideh Mahabadi (Toyota Technological Institute at Chicago, USA)\", \"Yakov Nekrich (Michigan Tech, USA)\", \"Aleksandar Nikolov (University of Toronto, Canada)\", \"Gabriel Nivasch (Ariel University, Israel)\", \"Natan Rubin (Ben-Gurion University, Israel)\", \"Christiane Schmidt (Linköping University, Sweden)\", \"Haitao Wang (Utah State University, USA)\", \"Emo Welzl (ETH Zürich, Switzerland)\", \"Carola Wenk (Tulane University, USA)\", \"Andreas Wiese (Universidad de Chile)\", \"Chee Yap (New York University, USA)\"]\n",
      "3 : [\"09. February 2022\", \"16. March 2022\", \"07–10 June 2022 (Tuesday–Friday)\"]\n",
      "4 : [\"Berlin, Germany\"]\n"
     ]
    }
   ],
   "source": [
    "url = \"https://www.inf.fu-berlin.de/inst/ag-ti/socg22/socg.html\"\n",
    "extract_information(url)"
   ]
  },
  {
   "cell_type": "code",
   "execution_count": null,
   "metadata": {},
   "outputs": [],
   "source": []
  }
 ],
 "metadata": {
  "kernelspec": {
   "display_name": "Python 3",
   "language": "python",
   "name": "python3"
  },
  "language_info": {
   "codemirror_mode": {
    "name": "ipython",
    "version": 3
   },
   "file_extension": ".py",
   "mimetype": "text/x-python",
   "name": "python",
   "nbconvert_exporter": "python",
   "pygments_lexer": "ipython3",
   "version": "3.10.12"
  }
 },
 "nbformat": 4,
 "nbformat_minor": 2
}
